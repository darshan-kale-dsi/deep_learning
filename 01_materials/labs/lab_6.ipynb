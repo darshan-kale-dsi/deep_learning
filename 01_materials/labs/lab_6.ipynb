{
  "cells": [
    {
      "cell_type": "markdown",
      "metadata": {
        "id": "wsul4W1FKSU6"
      },
      "source": [
        "## Text classification using Neural Networks\n",
        "\n",
        "The goal of this notebook is to learn to use Neural Networks for text classification.\n",
        "\n",
        "In this notebook, we will:\n",
        "- Train a shallow model with learning embeddings\n",
        "- Download pre-trained embeddings from Glove\n",
        "- Use these pre-trained embeddings"
      ]
    },
    {
      "cell_type": "markdown",
      "metadata": {
        "id": "tnUrpP9pKSU9"
      },
      "source": [
        "## The BBC topic classification dataset\n",
        "\n",
        "The BBC provides some benchmark topic classification datasets in English at: http://mlg.ucd.ie/datasets/bbc.html.\n",
        "\n",
        "The raw text (encoded with the latin-1 character encoding) of the news can be downloaded as a ZIP archive:"
      ]
    },
    {
      "cell_type": "code",
      "execution_count": 1,
      "metadata": {
        "id": "Vm4nscieKSU-",
        "outputId": "11bb9fd3-2d58-4649-f67f-c415738ac772",
        "colab": {
          "base_uri": "https://localhost:8080/"
        }
      },
      "outputs": [
        {
          "output_type": "stream",
          "name": "stdout",
          "text": [
            "Downloading http://mlg.ucd.ie/files/datasets/bbc-fulltext.zip to bbc-fulltext.zip...\n",
            "Extracting contents of bbc-fulltext.zip...\n"
          ]
        }
      ],
      "source": [
        "import os\n",
        "import os.path as op\n",
        "import zipfile\n",
        "from urllib.request import urlretrieve\n",
        "\n",
        "BBC_DATASET_URL = \"http://mlg.ucd.ie/files/datasets/bbc-fulltext.zip\"\n",
        "zip_filename = BBC_DATASET_URL.rsplit('/', 1)[1]\n",
        "BBC_DATASET_FOLDER = 'bbc'\n",
        "if not op.exists(zip_filename):\n",
        "    print(\"Downloading %s to %s...\" % (BBC_DATASET_URL, zip_filename))\n",
        "    urlretrieve(BBC_DATASET_URL, zip_filename)\n",
        "\n",
        "if not op.exists(BBC_DATASET_FOLDER):\n",
        "    with zipfile.ZipFile(zip_filename, 'r') as f:\n",
        "        print(\"Extracting contents of %s...\" % zip_filename)\n",
        "        f.extractall('.')"
      ]
    },
    {
      "cell_type": "markdown",
      "metadata": {
        "id": "1LrkVqMtKSVB"
      },
      "source": [
        "Each of the five folders contains text files from one of the five topics:"
      ]
    },
    {
      "cell_type": "code",
      "execution_count": 2,
      "metadata": {
        "id": "K_bJpKBbKSVD",
        "outputId": "6b5733f3-01bc-4486-c472-8a30aee38fb8",
        "colab": {
          "base_uri": "https://localhost:8080/"
        }
      },
      "outputs": [
        {
          "output_type": "execute_result",
          "data": {
            "text/plain": [
              "['business', 'entertainment', 'politics', 'sport', 'tech']"
            ]
          },
          "metadata": {},
          "execution_count": 2
        }
      ],
      "source": [
        "target_names = sorted(folder for folder in os.listdir(BBC_DATASET_FOLDER)\n",
        "                      if op.isdir(op.join(BBC_DATASET_FOLDER, folder)))\n",
        "target_names"
      ]
    },
    {
      "cell_type": "code",
      "execution_count": 3,
      "metadata": {
        "id": "1dLu9H5xKSVD",
        "outputId": "a1b5dd71-a27e-494b-8b52-ce9212fdbbb9",
        "colab": {
          "base_uri": "https://localhost:8080/"
        }
      },
      "outputs": [
        {
          "output_type": "stream",
          "name": "stdout",
          "text": [
            "Ad sales boost Time Warner profit\n",
            "\n",
            "Quarterly profits at US media giant TimeWarner jumped 76% to $1.13bn (Â£600m) for the three months to December, from $639m year-earlier.\n",
            "\n",
            "The firm, which is now one of the biggest investors in Google, benefited from sales of high-speed internet connections and higher advert sales. TimeWarner said fourth quarter sales rose 2% to $11.1bn from $10.9bn. Its profits were buoyed by one-off gains which offset a profit dip at Warner Bros, and less users for AOL.\n",
            "\n",
            "Time ...\n"
          ]
        }
      ],
      "source": [
        "# Example of a file in the \"business\" category\n",
        "with open(op.join(BBC_DATASET_FOLDER, 'business', '001.txt'), 'rb') as f:\n",
        "    print(f.read().decode('latin-1')[:500] + '...')"
      ]
    },
    {
      "cell_type": "markdown",
      "metadata": {
        "id": "ZlJTnJVPKSVE"
      },
      "source": [
        "Let's randomly partition the text files in a training and test set while recording the target category of each file as an integer:"
      ]
    },
    {
      "cell_type": "code",
      "execution_count": 4,
      "metadata": {
        "id": "L6hPYnrTKSVF"
      },
      "outputs": [],
      "source": [
        "import numpy as np\n",
        "from sklearn.model_selection import train_test_split\n",
        "\n",
        "target = []\n",
        "filenames = []\n",
        "for target_id, target_name in enumerate(target_names):\n",
        "    class_path = op.join(BBC_DATASET_FOLDER, target_name) # e.g. 'bbc/business'\n",
        "    for filename in sorted(os.listdir(class_path)):\n",
        "        filenames.append(op.join(class_path, filename))\n",
        "        target.append(target_id)\n",
        "\n",
        "target = np.asarray(target, dtype=np.int32)\n",
        "target_train, target_test, filenames_train, filenames_test = train_test_split(\n",
        "    target, filenames, test_size=200, random_state=0)"
      ]
    },
    {
      "cell_type": "markdown",
      "metadata": {
        "collapsed": false,
        "id": "5SibnTBmKSVG"
      },
      "source": [
        "What we now have is pairs of target labels (which category the document belongs to) and filenames (where the document is stored on disk):"
      ]
    },
    {
      "cell_type": "code",
      "execution_count": 5,
      "metadata": {
        "id": "Zj2pw1jCKSVG",
        "outputId": "c6c9c25b-17c3-4ce7-eb41-596cfea8dd1e",
        "colab": {
          "base_uri": "https://localhost:8080/"
        }
      },
      "outputs": [
        {
          "output_type": "execute_result",
          "data": {
            "text/plain": [
              "(array([0, 1, 3, 4, 3], dtype=int32),\n",
              " ['bbc/business/475.txt',\n",
              "  'bbc/entertainment/152.txt',\n",
              "  'bbc/sport/127.txt',\n",
              "  'bbc/tech/095.txt',\n",
              "  'bbc/sport/464.txt'])"
            ]
          },
          "metadata": {},
          "execution_count": 5
        }
      ],
      "source": [
        "target_train[:5], filenames_train[:5]"
      ]
    },
    {
      "cell_type": "code",
      "execution_count": 6,
      "metadata": {
        "id": "Gn8yuKU3KSVG",
        "outputId": "82003923-2bbd-4766-8784-24f1a25d3ea4",
        "colab": {
          "base_uri": "https://localhost:8080/"
        }
      },
      "outputs": [
        {
          "output_type": "stream",
          "name": "stdout",
          "text": [
            "Training set size: 4.582 MB\n"
          ]
        }
      ],
      "source": [
        "size_in_bytes = sum([len(open(fn, 'rb').read()) for fn in filenames_train])\n",
        "print(\"Training set size: %0.3f MB\" % (size_in_bytes / 1e6))"
      ]
    },
    {
      "cell_type": "markdown",
      "metadata": {
        "id": "yb0rtMTqKSVH"
      },
      "source": [
        "This dataset is small so we can load everything into memory right now (which simplifies our code later). If we had substantially more data, we would need to use a `tf.data.Dataset` to stream it from disk in batches during training."
      ]
    },
    {
      "cell_type": "code",
      "execution_count": 7,
      "metadata": {
        "id": "CmY1MxMLKSVH"
      },
      "outputs": [],
      "source": [
        "texts_train = [open(fn, 'rb').read().decode('latin-1') for fn in filenames_train]\n",
        "texts_test = [open(fn, 'rb').read().decode('latin-1') for fn in filenames_test]"
      ]
    },
    {
      "cell_type": "markdown",
      "metadata": {
        "id": "QWO3dxfVKSVH"
      },
      "source": [
        "## A first baseline model\n",
        "\n",
        "For simple topic classification problems, one should always try a simple method first. Let's try using a `CountVectorizer` followed by `LogisticRegression` as a baseline. What this will do is:\n",
        "\n",
        "- Convert the text documents to a matrix of token counts (each row is a document, each column is a word, each cell is the count of the word in the document)\n",
        "- Train a logistic regression model on this matrix\n",
        "\n",
        "It's a very efficient method and should give us a strong baseline to compare our deep learning method against."
      ]
    },
    {
      "cell_type": "code",
      "execution_count": 8,
      "metadata": {
        "id": "OWsWX48-KSVH",
        "outputId": "867cc015-1c8a-4b49-b824-cebf7dd9d82e",
        "colab": {
          "base_uri": "https://localhost:8080/"
        }
      },
      "outputs": [
        {
          "output_type": "stream",
          "name": "stdout",
          "text": [
            "Start of the first document:\n",
            "Watchdog probes Vivendi bond sale\n",
            "\n",
            "French stock market regulator AMF has filed complaints against me...\n",
            "----------\n",
            "Sampling of vocabulary counts in the document:\n",
            "bank 2\n",
            "bankruptcy 0\n",
            "banks 0\n",
            "barcelona 0\n",
            "based 0\n",
            "basic 0\n",
            "basis 1\n",
            "bath 0\n",
            "battle 0\n",
            "bbc 0\n"
          ]
        }
      ],
      "source": [
        "from sklearn.feature_extraction.text import CountVectorizer\n",
        "\n",
        "# Understanding what the CountVectorizer does\n",
        "vectorizer = CountVectorizer(max_features=2000) # only keep the 2000 most frequent words\n",
        "X_train = vectorizer.fit_transform(texts_train)\n",
        "\n",
        "# Compare the content of the first document with the vocabulary\n",
        "print(\"Start of the first document:\")\n",
        "print(texts_train[0][0:100] + '...')\n",
        "print('----------')\n",
        "print(\"Sampling of vocabulary counts in the document:\")\n",
        "for word, count in zip(vectorizer.get_feature_names_out()[200:210], X_train.toarray()[0][200:210]):\n",
        "    print(word, count)"
      ]
    },
    {
      "cell_type": "code",
      "execution_count": 9,
      "metadata": {
        "id": "4qaiFz-gKSVI"
      },
      "outputs": [],
      "source": [
        "from sklearn.feature_extraction.text import CountVectorizer\n",
        "from sklearn.linear_model import LogisticRegression\n",
        "from sklearn.pipeline import make_pipeline\n",
        "\n",
        "\n",
        "text_classifier = make_pipeline(\n",
        "    CountVectorizer(max_features=2000),\n",
        "    LogisticRegression(),\n",
        ")"
      ]
    },
    {
      "cell_type": "code",
      "execution_count": 10,
      "metadata": {
        "id": "I3MEuqB5KSVI",
        "outputId": "7bcac55c-203e-4b5a-fff9-cb23622f1d32",
        "colab": {
          "base_uri": "https://localhost:8080/"
        }
      },
      "outputs": [
        {
          "output_type": "stream",
          "name": "stdout",
          "text": [
            "CPU times: user 1.85 s, sys: 35.7 ms, total: 1.88 s\n",
            "Wall time: 1.52 s\n"
          ]
        },
        {
          "output_type": "stream",
          "name": "stderr",
          "text": [
            "/usr/local/lib/python3.11/dist-packages/sklearn/linear_model/_logistic.py:465: ConvergenceWarning: lbfgs failed to converge (status=1):\n",
            "STOP: TOTAL NO. of ITERATIONS REACHED LIMIT.\n",
            "\n",
            "Increase the number of iterations (max_iter) or scale the data as shown in:\n",
            "    https://scikit-learn.org/stable/modules/preprocessing.html\n",
            "Please also refer to the documentation for alternative solver options:\n",
            "    https://scikit-learn.org/stable/modules/linear_model.html#logistic-regression\n",
            "  n_iter_i = _check_optimize_result(\n"
          ]
        }
      ],
      "source": [
        "%time _ = text_classifier.fit(texts_train, target_train)"
      ]
    },
    {
      "cell_type": "markdown",
      "metadata": {
        "collapsed": false,
        "id": "8yaQ9XcDKSVI"
      },
      "source": [
        "You may get a warning above that \"lbfgs failed to converge\". This means that the optimization algorithm did not reach the desired precision. This is not a big deal here, as we are not looking for the best possible accuracy, but just a baseline. We can check the accuracy of this model on the test set:"
      ]
    },
    {
      "cell_type": "code",
      "execution_count": 11,
      "metadata": {
        "id": "pTj6JUrlKSVI",
        "outputId": "f77e7c4e-df90-41ba-a1f0-9ac61caeb28e",
        "colab": {
          "base_uri": "https://localhost:8080/"
        }
      },
      "outputs": [
        {
          "output_type": "execute_result",
          "data": {
            "text/plain": [
              "0.955"
            ]
          },
          "metadata": {},
          "execution_count": 11
        }
      ],
      "source": [
        "text_classifier.score(texts_test, target_test)"
      ]
    },
    {
      "cell_type": "markdown",
      "metadata": {
        "id": "pkROvzgnKSVJ"
      },
      "source": [
        "Approximately 95 percent testing accuracy on a very simple baseline. It's quite unlikely that we can significantly beat that baseline with a more complex deep learning based model. This is simply not a complex task - we wouldn't expect to see this level of performance from a simple model on a real-world text classification problem. Let's move on, and see how well we can do with a simple neural network."
      ]
    },
    {
      "cell_type": "markdown",
      "metadata": {
        "id": "fqarlpHzKSVJ"
      },
      "source": [
        "### Preprocessing text for the (supervised) CBOW model\n",
        "\n",
        "We will implement a simple classification model in Keras. Raw text requires (sometimes a lot of) preprocessing.\n",
        "\n",
        "The following cells uses Keras to preprocess text:\n",
        "- using a tokenizer. This converts the texts into sequences of indices representing the `20000` most frequent words\n",
        "- sequences have different lengths, so we pad them (add 0s at the end until the sequence is of length `1000`). For example, if we were padding to three words, and we had a sequence of just \"dog\", we would pad it to \"[\\<dog token\\>,0,0]\".\n",
        "- we convert the output classes as 1-hot encodings"
      ]
    },
    {
      "cell_type": "code",
      "execution_count": 12,
      "metadata": {
        "id": "8_G_1ZWyKSVJ",
        "outputId": "84dd0202-ca42-4f67-c419-b1b979baef39",
        "colab": {
          "base_uri": "https://localhost:8080/"
        }
      },
      "outputs": [
        {
          "output_type": "stream",
          "name": "stdout",
          "text": [
            "Found 30995 unique tokens.\n",
            "Example of word_index: [('the', 1), ('to', 2), ('of', 3), ('and', 4), ('a', 5)]\n"
          ]
        }
      ],
      "source": [
        "from tensorflow.keras.preprocessing.text import Tokenizer\n",
        "\n",
        "MAX_NB_WORDS = 20000\n",
        "\n",
        "# vectorize the text samples into a 2D integer tensor\n",
        "tokenizer = Tokenizer(num_words=MAX_NB_WORDS, char_level=False)\n",
        "tokenizer.fit_on_texts(texts_train)\n",
        "sequences = tokenizer.texts_to_sequences(texts_train)\n",
        "sequences_test = tokenizer.texts_to_sequences(texts_test)\n",
        "\n",
        "word_index = tokenizer.word_index\n",
        "print('Found %s unique tokens.' % len(word_index))\n",
        "print(f'Example of word_index: {list(word_index.items())[:5]}')"
      ]
    },
    {
      "cell_type": "markdown",
      "metadata": {
        "id": "TtUvPdUXKSVJ"
      },
      "source": [
        "Tokenized sequences are converted to list of token ids (with an integer code). We can convert them back to text to see what they now look like:"
      ]
    },
    {
      "cell_type": "code",
      "execution_count": 13,
      "metadata": {
        "id": "DmdBdWlEKSVJ"
      },
      "outputs": [],
      "source": [
        "index_to_word = dict((i, w) for w, i in tokenizer.word_index.items())"
      ]
    },
    {
      "cell_type": "code",
      "execution_count": 14,
      "metadata": {
        "id": "-PBJcJI5KSVJ",
        "outputId": "e810020c-1d08-40da-b854-73882d51a62a",
        "colab": {
          "base_uri": "https://localhost:8080/"
        }
      },
      "outputs": [
        {
          "output_type": "stream",
          "name": "stdout",
          "text": [
            "Original text:          ['Watchdog', 'probes', 'Vivendi', 'bond']\n",
            "Tokenized text:         [1857, 9454, 5251, 1973]\n",
            "Converted back to text: ['watchdog', 'probes', 'vivendi', 'bond']\n"
          ]
        }
      ],
      "source": [
        "print(f'Original text:          {texts_train[0].split(\" \")[0:4]}')\n",
        "print(f'Tokenized text:         {sequences[0][0:4]}')\n",
        "print(f'Converted back to text: {[index_to_word.get(i, \"UNK\") for i in sequences[0][0:4]]}')"
      ]
    },
    {
      "cell_type": "markdown",
      "metadata": {
        "id": "vK-6mD84KSVK"
      },
      "source": [
        "Let's have a closer look at the tokenized sequences:"
      ]
    },
    {
      "cell_type": "code",
      "execution_count": 15,
      "metadata": {
        "id": "CLcpDFOhKSVK",
        "outputId": "1257b6a4-7cc0-4893-d717-63e0111386a8",
        "colab": {
          "base_uri": "https://localhost:8080/"
        }
      },
      "outputs": [
        {
          "output_type": "stream",
          "name": "stdout",
          "text": [
            "average length: 382.6\n",
            "max length: 4355\n"
          ]
        }
      ],
      "source": [
        "seq_lens = [len(s) for s in sequences]\n",
        "print(\"average length: %0.1f\" % np.mean(seq_lens))\n",
        "print(\"max length: %d\" % max(seq_lens))"
      ]
    },
    {
      "cell_type": "code",
      "execution_count": 16,
      "metadata": {
        "id": "dr40EeEgKSVL",
        "outputId": "6d859f22-24dc-4619-d023-ae0d90bfb813",
        "colab": {
          "base_uri": "https://localhost:8080/",
          "height": 430
        }
      },
      "outputs": [
        {
          "output_type": "display_data",
          "data": {
            "text/plain": [
              "<Figure size 640x480 with 1 Axes>"
            ],
            "image/png": "[encoded data removed]"
          },
          "metadata": {}
        }
      ],
      "source": [
        "import matplotlib.pyplot as plt\n",
        "\n",
        "plt.hist(seq_lens, bins=50);"
      ]
    },
    {
      "cell_type": "markdown",
      "metadata": {
        "id": "o-s9cJKZKSVL"
      },
      "source": [
        "We can see that while we do have sequences up to 4355 words long, the vast majority of sequences are less than 1000 words long. We can use this information to truncate or pad all the sequences to 1000 symbols to build the training set. This will simplify our model and speed up training."
      ]
    },
    {
      "cell_type": "code",
      "execution_count": 17,
      "metadata": {
        "id": "nJ4IMQA4KSVL",
        "outputId": "ca11f86d-6805-4102-cec4-95de3b2b9339",
        "colab": {
          "base_uri": "https://localhost:8080/"
        }
      },
      "outputs": [
        {
          "output_type": "stream",
          "name": "stdout",
          "text": [
            "Shape of data tensor: (2025, 1000)\n",
            "Shape of data test tensor: (200, 1000)\n"
          ]
        }
      ],
      "source": [
        "from tensorflow.keras.preprocessing.sequence import pad_sequences\n",
        "\n",
        "\n",
        "MAX_SEQUENCE_LENGTH = 1000\n",
        "\n",
        "# Make all sequences exactly 1000 words long\n",
        "x_train = pad_sequences(sequences, maxlen=MAX_SEQUENCE_LENGTH)\n",
        "x_test = pad_sequences(sequences_test, maxlen=MAX_SEQUENCE_LENGTH)\n",
        "print('Shape of data tensor:', x_train.shape)\n",
        "print('Shape of data test tensor:', x_test.shape)"
      ]
    },
    {
      "cell_type": "code",
      "execution_count": 18,
      "metadata": {
        "id": "Mz83Ds6BKSVL",
        "outputId": "9ac9c899-22e0-4c1c-8c3c-b7af838fe3b5",
        "colab": {
          "base_uri": "https://localhost:8080/"
        }
      },
      "outputs": [
        {
          "output_type": "stream",
          "name": "stdout",
          "text": [
            "Shape of label tensor: (2025, 5)\n"
          ]
        }
      ],
      "source": [
        "from tensorflow.keras.utils import to_categorical\n",
        "\n",
        "y_train = to_categorical(target_train)\n",
        "print('Shape of label tensor:', y_train.shape)"
      ]
    },
    {
      "cell_type": "markdown",
      "metadata": {
        "id": "Va0Vm61jKSVL"
      },
      "source": [
        "### A simple supervised CBOW model in Keras\n",
        "\n",
        "The following computes a very simple model, as described in [fastText](https://github.com/facebookresearch/fastText):\n",
        "\n",
        "<img src=\"https://raw.githubusercontent.com/UofT-DSI/deep_learning/58b409e83f4294b293d6f763abf889d0a0fa1ddf/03_instructional_team/markdown_slides/images/svg_files/06_fasttext.svg\" style=\"width: 600px;\" />\n",
        "\n",
        "- Build an embedding layer mapping each word to a vector representation\n",
        "- Compute the vector representation of all words in each sequence and average them\n",
        "- Add a dense layer to output 5 classes"
      ]
    },
    {
      "cell_type": "code",
      "execution_count": 19,
      "metadata": {
        "id": "sV_gHp9dKSVN"
      },
      "outputs": [],
      "source": [
        "from tensorflow.keras.layers import Dense, GlobalAveragePooling1D, Embedding\n",
        "from tensorflow.keras.models import Sequential\n",
        "from tensorflow.keras.optimizers import Adam\n",
        "\n",
        "EMBEDDING_DIM = 50\n",
        "N_CLASSES = len(target_names)\n",
        "\n",
        "model = Sequential([\n",
        "    Embedding(MAX_NB_WORDS, EMBEDDING_DIM, trainable=True), # Just like we've seen in previous labs\n",
        "    GlobalAveragePooling1D(), # This layer averages the embeddings of all words in the sequence\n",
        "    Dense(N_CLASSES, activation='softmax') # This layer outputs a probability distribution over the 5 classes\n",
        "])\n",
        "\n",
        "model.compile(\n",
        "    loss='categorical_crossentropy',\n",
        "    optimizer=Adam(learning_rate=0.01),\n",
        "    metrics=['accuracy']\n",
        ")"
      ]
    },
    {
      "cell_type": "code",
      "execution_count": 20,
      "metadata": {
        "id": "gZrhKpI_KSVO",
        "outputId": "de55d2da-f5d2-4839-f9af-872613c0ae8c",
        "colab": {
          "base_uri": "https://localhost:8080/"
        }
      },
      "outputs": [
        {
          "output_type": "stream",
          "name": "stdout",
          "text": [
            "Epoch 1/10\n",
            "\u001b[1m57/57\u001b[0m \u001b[32m━━━━━━━━━━━━━━━━━━━━\u001b[0m\u001b[37m\u001b[0m \u001b[1m4s\u001b[0m 25ms/step - accuracy: 0.3255 - loss: 1.5417 - val_accuracy: 0.4236 - val_loss: 1.2335\n",
            "Epoch 2/10\n",
            "\u001b[1m57/57\u001b[0m \u001b[32m━━━━━━━━━━━━━━━━━━━━\u001b[0m\u001b[37m\u001b[0m \u001b[1m0s\u001b[0m 4ms/step - accuracy: 0.6397 - loss: 1.0519 - val_accuracy: 0.8768 - val_loss: 0.5373\n",
            "Epoch 3/10\n",
            "\u001b[1m57/57\u001b[0m \u001b[32m━━━━━━━━━━━━━━━━━━━━\u001b[0m\u001b[37m\u001b[0m \u001b[1m0s\u001b[0m 4ms/step - accuracy: 0.8285 - loss: 0.5941 - val_accuracy: 0.9015 - val_loss: 0.3608\n",
            "Epoch 4/10\n",
            "\u001b[1m57/57\u001b[0m \u001b[32m━━━━━━━━━━━━━━━━━━━━\u001b[0m\u001b[37m\u001b[0m \u001b[1m0s\u001b[0m 4ms/step - accuracy: 0.8523 - loss: 0.4259 - val_accuracy: 0.8325 - val_loss: 0.4524\n",
            "Epoch 5/10\n",
            "\u001b[1m57/57\u001b[0m \u001b[32m━━━━━━━━━━━━━━━━━━━━\u001b[0m\u001b[37m\u001b[0m \u001b[1m0s\u001b[0m 4ms/step - accuracy: 0.8662 - loss: 0.3748 - val_accuracy: 0.9655 - val_loss: 0.1940\n",
            "Epoch 6/10\n",
            "\u001b[1m57/57\u001b[0m \u001b[32m━━━━━━━━━━━━━━━━━━━━\u001b[0m\u001b[37m\u001b[0m \u001b[1m0s\u001b[0m 4ms/step - accuracy: 0.9734 - loss: 0.1268 - val_accuracy: 0.9557 - val_loss: 0.1602\n",
            "Epoch 7/10\n",
            "\u001b[1m57/57\u001b[0m \u001b[32m━━━━━━━━━━━━━━━━━━━━\u001b[0m\u001b[37m\u001b[0m \u001b[1m0s\u001b[0m 4ms/step - accuracy: 0.9676 - loss: 0.1187 - val_accuracy: 0.9655 - val_loss: 0.1149\n",
            "Epoch 8/10\n",
            "\u001b[1m57/57\u001b[0m \u001b[32m━━━━━━━━━━━━━━━━━━━━\u001b[0m\u001b[37m\u001b[0m \u001b[1m0s\u001b[0m 4ms/step - accuracy: 0.9883 - loss: 0.0569 - val_accuracy: 0.9754 - val_loss: 0.0893\n",
            "Epoch 9/10\n",
            "\u001b[1m57/57\u001b[0m \u001b[32m━━━━━━━━━━━━━━━━━━━━\u001b[0m\u001b[37m\u001b[0m \u001b[1m0s\u001b[0m 4ms/step - accuracy: 0.9867 - loss: 0.0576 - val_accuracy: 0.9901 - val_loss: 0.0743\n",
            "Epoch 10/10\n",
            "\u001b[1m57/57\u001b[0m \u001b[32m━━━━━━━━━━━━━━━━━━━━\u001b[0m\u001b[37m\u001b[0m \u001b[1m0s\u001b[0m 4ms/step - accuracy: 0.9924 - loss: 0.0440 - val_accuracy: 0.9458 - val_loss: 0.1418\n"
          ]
        },
        {
          "output_type": "execute_result",
          "data": {
            "text/plain": [
              "<keras.src.callbacks.history.History at 0x7f54909d82d0>"
            ]
          },
          "metadata": {},
          "execution_count": 20
        }
      ],
      "source": [
        "model.fit(x_train, y_train, validation_split=0.1,\n",
        "          epochs=10, batch_size=32)"
      ]
    },
    {
      "cell_type": "markdown",
      "metadata": {
        "id": "2-TdMyDoKSVO"
      },
      "source": [
        "**Exercise**\n",
        "\n",
        "- Evaluate the model on the test set\n",
        "- Identify an example of a mis-classified document and display the text of the document"
      ]
    },
    {
      "cell_type": "code",
      "execution_count": 21,
      "metadata": {
        "id": "2qA6aB5lKSVO"
      },
      "outputs": [],
      "source": [
        "# Evaluate the model"
      ]
    },
    {
      "cell_type": "markdown",
      "metadata": {
        "id": "RVvUYkMIKSVO"
      },
      "source": [
        "### Building more complex models\n",
        "\n",
        "**Exercise**\n",
        "- Copy the previous model, and add more complexity to it. You can try adding more layers, or using a different type of layer (e.g. LSTM, Conv1D, etc.)\n",
        "- Some examples of what you could do:\n",
        "    - Add a LSTM layer before the dense layer ([LSTM documentation](https://keras.io/layers/recurrent/#lstm))\n",
        "    - Add a Conv1D layer after the embedding layer ([Conv1D documentation](https://keras.io/layers/convolutional/#conv1d))\n",
        "    - Add more dense layers"
      ]
    },
    {
      "cell_type": "code",
      "execution_count": 26,
      "metadata": {
        "id": "HSToK-tsKSVO"
      },
      "outputs": [],
      "source": [
        "from tensorflow.keras.layers import Conv1D, MaxPooling1D, Flatten, Dense, Embedding, LSTM\n",
        "from tensorflow.keras.models import Sequential\n",
        "\n",
        "model = Sequential([\n",
        "    Embedding(MAX_NB_WORDS, EMBEDDING_DIM, trainable=True),\n",
        "    Conv1D(128, 5, activation='relu'),\n",
        "    MaxPooling1D(5),\n",
        "    LSTM(128),\n",
        "    Dense(N_CLASSES, activation='softmax')\n",
        "])\n",
        "\n",
        "# Compile the model\n",
        "model.compile(loss='categorical_crossentropy',\n",
        "              optimizer='adam', metrics=['acc'])"
      ]
    },
    {
      "cell_type": "code",
      "execution_count": 27,
      "metadata": {
        "id": "ryQFrSVbKSVP",
        "outputId": "1da70ad8-9b0b-4b8f-fc9b-7d45cd4812e9",
        "colab": {
          "base_uri": "https://localhost:8080/"
        }
      },
      "outputs": [
        {
          "output_type": "stream",
          "name": "stdout",
          "text": [
            "Epoch 1/15\n",
            "\u001b[1m57/57\u001b[0m \u001b[32m━━━━━━━━━━━━━━━━━━━━\u001b[0m\u001b[37m\u001b[0m \u001b[1m6s\u001b[0m 25ms/step - acc: 0.2435 - loss: 1.5875 - val_acc: 0.4532 - val_loss: 1.2000\n",
            "Epoch 2/15\n",
            "\u001b[1m57/57\u001b[0m \u001b[32m━━━━━━━━━━━━━━━━━━━━\u001b[0m\u001b[37m\u001b[0m \u001b[1m1s\u001b[0m 15ms/step - acc: 0.5693 - loss: 0.9339 - val_acc: 0.8227 - val_loss: 0.5360\n",
            "Epoch 3/15\n",
            "\u001b[1m57/57\u001b[0m \u001b[32m━━━━━━━━━━━━━━━━━━━━\u001b[0m\u001b[37m\u001b[0m \u001b[1m1s\u001b[0m 19ms/step - acc: 0.8767 - loss: 0.3569 - val_acc: 0.8966 - val_loss: 0.2767\n",
            "Epoch 4/15\n",
            "\u001b[1m57/57\u001b[0m \u001b[32m━━━━━━━━━━━━━━━━━━━━\u001b[0m\u001b[37m\u001b[0m \u001b[1m1s\u001b[0m 21ms/step - acc: 0.9429 - loss: 0.1695 - val_acc: 0.7488 - val_loss: 0.8020\n",
            "Epoch 5/15\n",
            "\u001b[1m57/57\u001b[0m \u001b[32m━━━━━━━━━━━━━━━━━━━━\u001b[0m\u001b[37m\u001b[0m \u001b[1m1s\u001b[0m 16ms/step - acc: 0.9755 - loss: 0.0969 - val_acc: 0.9261 - val_loss: 0.2213\n",
            "Epoch 6/15\n",
            "\u001b[1m57/57\u001b[0m \u001b[32m━━━━━━━━━━━━━━━━━━━━\u001b[0m\u001b[37m\u001b[0m \u001b[1m1s\u001b[0m 15ms/step - acc: 1.0000 - loss: 0.0088 - val_acc: 0.9606 - val_loss: 0.1404\n",
            "Epoch 7/15\n",
            "\u001b[1m57/57\u001b[0m \u001b[32m━━━━━━━━━━━━━━━━━━━━\u001b[0m\u001b[37m\u001b[0m \u001b[1m1s\u001b[0m 15ms/step - acc: 0.9992 - loss: 0.0039 - val_acc: 0.9310 - val_loss: 0.2024\n",
            "Epoch 8/15\n",
            "\u001b[1m57/57\u001b[0m \u001b[32m━━━━━━━━━━━━━━━━━━━━\u001b[0m\u001b[37m\u001b[0m \u001b[1m1s\u001b[0m 16ms/step - acc: 0.9986 - loss: 0.0097 - val_acc: 0.9261 - val_loss: 0.2584\n",
            "Epoch 9/15\n",
            "\u001b[1m57/57\u001b[0m \u001b[32m━━━━━━━━━━━━━━━━━━━━\u001b[0m\u001b[37m\u001b[0m \u001b[1m1s\u001b[0m 15ms/step - acc: 1.0000 - loss: 0.0012 - val_acc: 0.9409 - val_loss: 0.2009\n",
            "Epoch 10/15\n",
            "\u001b[1m57/57\u001b[0m \u001b[32m━━━━━━━━━━━━━━━━━━━━\u001b[0m\u001b[37m\u001b[0m \u001b[1m1s\u001b[0m 15ms/step - acc: 1.0000 - loss: 8.6717e-04 - val_acc: 0.9409 - val_loss: 0.2014\n",
            "Epoch 11/15\n",
            "\u001b[1m57/57\u001b[0m \u001b[32m━━━━━━━━━━━━━━━━━━━━\u001b[0m\u001b[37m\u001b[0m \u001b[1m1s\u001b[0m 15ms/step - acc: 1.0000 - loss: 6.4163e-04 - val_acc: 0.9458 - val_loss: 0.2077\n",
            "Epoch 12/15\n",
            "\u001b[1m57/57\u001b[0m \u001b[32m━━━━━━━━━━━━━━━━━━━━\u001b[0m\u001b[37m\u001b[0m \u001b[1m1s\u001b[0m 16ms/step - acc: 1.0000 - loss: 5.2869e-04 - val_acc: 0.9409 - val_loss: 0.2105\n",
            "Epoch 13/15\n",
            "\u001b[1m57/57\u001b[0m \u001b[32m━━━━━━━━━━━━━━━━━━━━\u001b[0m\u001b[37m\u001b[0m \u001b[1m1s\u001b[0m 17ms/step - acc: 1.0000 - loss: 4.4625e-04 - val_acc: 0.9409 - val_loss: 0.2136\n",
            "Epoch 14/15\n",
            "\u001b[1m57/57\u001b[0m \u001b[32m━━━━━━━━━━━━━━━━━━━━\u001b[0m\u001b[37m\u001b[0m \u001b[1m1s\u001b[0m 19ms/step - acc: 1.0000 - loss: 3.8729e-04 - val_acc: 0.9507 - val_loss: 0.2159\n",
            "Epoch 15/15\n",
            "\u001b[1m57/57\u001b[0m \u001b[32m━━━━━━━━━━━━━━━━━━━━\u001b[0m\u001b[37m\u001b[0m \u001b[1m1s\u001b[0m 16ms/step - acc: 1.0000 - loss: 3.3764e-04 - val_acc: 0.9507 - val_loss: 0.2157\n",
            "Test accuracy: 0.945\n"
          ]
        }
      ],
      "source": [
        "model.fit(x_train, y_train, validation_split=0.1,\n",
        "          epochs=15, batch_size=32)\n",
        "\n",
        "output_test = model(x_test)\n",
        "test_casses = np.argmax(output_test, axis=-1)\n",
        "print(\"Test accuracy:\", np.mean(test_casses == target_test))"
      ]
    },
    {
      "cell_type": "markdown",
      "metadata": {
        "id": "CGXw2aXmKSVP"
      },
      "source": [
        "### Loading pre-trained embeddings\n",
        "\n",
        "The file `glove100K.100d.txt` is an extract of [Glove](http://nlp.stanford.edu/projects/glove/) Vectors, that were trained on English Wikipedia and the Gigaword 5 corpus. They differ from word2vec in the way the vectors are trained, but the idea is the same: each word is represented as a vector of `100` numbers.\n",
        "\n",
        "We extracted the `100 000` most frequent words for you, and the code below downloads them."
      ]
    },
    {
      "cell_type": "code",
      "execution_count": 28,
      "metadata": {
        "id": "W1XPmF4yKSVP",
        "outputId": "b630781b-c916-4c8a-be19-d01a334ba8e5",
        "colab": {
          "base_uri": "https://localhost:8080/"
        }
      },
      "outputs": [
        {
          "output_type": "stream",
          "name": "stdout",
          "text": [
            "Downloading from https://github.com/m2dsupsdlclass/lectures-labs/releases/download/0.3/glove100k.100d.zip to glove100k.100d.zip...\n",
            "extracting glove100k.100d.zip...\n"
          ]
        }
      ],
      "source": [
        "# Get pretrained Glove Word2Vec\n",
        "URL_REPRESENTATIONS = \"https://github.com/m2dsupsdlclass/lectures-labs/releases/download/0.3/glove100k.100d.zip\"\n",
        "ZIP_REPRESENTATIONS = \"glove100k.100d.zip\"\n",
        "FILE_REPRESENTATIONS = \"glove100K.100d.txt\"\n",
        "\n",
        "if not op.exists(ZIP_REPRESENTATIONS):\n",
        "    print('Downloading from %s to %s...' % (URL_REPRESENTATIONS, ZIP_REPRESENTATIONS))\n",
        "    urlretrieve(URL_REPRESENTATIONS, './' + ZIP_REPRESENTATIONS)\n",
        "\n",
        "if not op.exists(FILE_REPRESENTATIONS):\n",
        "    print(\"extracting %s...\" % ZIP_REPRESENTATIONS)\n",
        "    myzip = zipfile.ZipFile(ZIP_REPRESENTATIONS)\n",
        "    myzip.extractall()"
      ]
    },
    {
      "cell_type": "code",
      "execution_count": 29,
      "metadata": {
        "id": "LXSRkqwuKSVP",
        "outputId": "f2d7dcc7-46f7-4f81-b034-33cad06efe8a",
        "colab": {
          "base_uri": "https://localhost:8080/"
        }
      },
      "outputs": [
        {
          "output_type": "stream",
          "name": "stdout",
          "text": [
            "found 100000 different words in the file\n"
          ]
        }
      ],
      "source": [
        "embeddings_index = {}\n",
        "embeddings_vectors = []\n",
        "with open('glove100K.100d.txt', 'rb') as f:\n",
        "    word_idx = 0\n",
        "    for line in f:\n",
        "        values = line.decode('utf-8').split()\n",
        "        word = values[0]\n",
        "        vector = np.asarray(values[1:], dtype='float32')\n",
        "        embeddings_index[word] = word_idx\n",
        "        embeddings_vectors.append(vector)\n",
        "        word_idx = word_idx + 1\n",
        "\n",
        "inv_index = {v: k for k, v in embeddings_index.items()}\n",
        "print(\"found %d different words in the file\" % word_idx)"
      ]
    },
    {
      "cell_type": "code",
      "execution_count": 30,
      "metadata": {
        "id": "6QeCC8EgKSVP",
        "outputId": "613aced2-2b2f-4c48-fd21-a1b1a1108dad",
        "colab": {
          "base_uri": "https://localhost:8080/"
        }
      },
      "outputs": [
        {
          "output_type": "stream",
          "name": "stdout",
          "text": [
            "(100000, 100)\n"
          ]
        }
      ],
      "source": [
        "# Stack all embeddings in a large numpy array\n",
        "glove_embeddings = np.vstack(embeddings_vectors)\n",
        "glove_norms = np.linalg.norm(glove_embeddings, axis=-1, keepdims=True)\n",
        "glove_embeddings_normed = glove_embeddings / glove_norms\n",
        "print(glove_embeddings.shape)"
      ]
    },
    {
      "cell_type": "code",
      "execution_count": null,
      "metadata": {
        "id": "8nXM6OIfKSVQ"
      },
      "outputs": [],
      "source": [
        "def get_emb(word):\n",
        "    idx = embeddings_index.get(word)\n",
        "    if idx is None:\n",
        "        return None\n",
        "    else:\n",
        "        return glove_embeddings[idx]\n",
        "\n",
        "\n",
        "def get_normed_emb(word):\n",
        "    idx = embeddings_index.get(word)\n",
        "    if idx is None:\n",
        "        return None\n",
        "    else:\n",
        "        return glove_embeddings_normed[idx]"
      ]
    },
    {
      "cell_type": "code",
      "execution_count": null,
      "metadata": {
        "id": "4uX7BURkKSVQ"
      },
      "outputs": [],
      "source": [
        "get_emb(\"computer\")"
      ]
    },
    {
      "cell_type": "markdown",
      "metadata": {
        "id": "UH0tT8tBKSVQ"
      },
      "source": [
        "### Finding most similar words\n",
        "\n",
        "Here we define a function to find the most similar words to a given word. The similarity is computed using the cosine similarity between the word embeddings. It can also accept multiple words, and it will take the average of the embeddings of the words to find the most similar words."
      ]
    },
    {
      "cell_type": "code",
      "execution_count": null,
      "metadata": {
        "id": "t8STm770KSVQ"
      },
      "outputs": [],
      "source": [
        "def most_similar(words, topn=10):\n",
        "    query_emb = 0\n",
        "    # If we have a list of words instead of one word\n",
        "    # (bonus question)\n",
        "    if type(words) == list:\n",
        "        for word in words:\n",
        "            query_emb += get_emb(word)\n",
        "    else:\n",
        "        query_emb = get_emb(words)\n",
        "\n",
        "    query_emb = query_emb / np.linalg.norm(query_emb)\n",
        "\n",
        "    # Large numpy vector with all cosine similarities\n",
        "    # between emb and all other words\n",
        "    cosines = np.dot(glove_embeddings_normed, query_emb)\n",
        "\n",
        "    # topn most similar indexes corresponding to cosines\n",
        "    idxs = np.argsort(cosines)[::-1][:topn]\n",
        "\n",
        "    # pretty return with word and similarity\n",
        "    return [(inv_index[idx], cosines[idx]) for idx in idxs]"
      ]
    },
    {
      "cell_type": "code",
      "execution_count": null,
      "metadata": {
        "id": "3rkivYiqKSVQ"
      },
      "outputs": [],
      "source": [
        "most_similar(\"cpu\")"
      ]
    },
    {
      "cell_type": "code",
      "execution_count": null,
      "metadata": {
        "id": "7gXgNU_vKSVR"
      },
      "outputs": [],
      "source": [
        "most_similar(\"nvidia\")"
      ]
    },
    {
      "cell_type": "code",
      "execution_count": null,
      "metadata": {
        "id": "-MEAT3lhKSVR"
      },
      "outputs": [],
      "source": [
        "most_similar(\"1\")"
      ]
    },
    {
      "cell_type": "code",
      "execution_count": null,
      "metadata": {
        "id": "tKeYkwdtKSVR"
      },
      "outputs": [],
      "source": [
        "# bonus: sum of two word embeddings\n",
        "most_similar([\"toronto\", \"leaf\"])"
      ]
    },
    {
      "cell_type": "markdown",
      "metadata": {
        "collapsed": false,
        "id": "MeMeQ5uLKSVR"
      },
      "source": [
        "### Displaying vectors with  t-SNE"
      ]
    },
    {
      "cell_type": "code",
      "execution_count": null,
      "metadata": {
        "id": "CUxfrjC6KSVR"
      },
      "outputs": [],
      "source": [
        "from sklearn.manifold import TSNE\n",
        "\n",
        "word_emb_tsne = TSNE(perplexity=30).fit_transform(glove_embeddings_normed[:1000])"
      ]
    },
    {
      "cell_type": "code",
      "execution_count": null,
      "metadata": {
        "scrolled": false,
        "id": "vJfpa40xKSVS"
      },
      "outputs": [],
      "source": [
        "import matplotlib.pyplot as plt\n",
        "\n",
        "plt.figure(figsize=(40, 40))\n",
        "axis = plt.gca()\n",
        "np.set_printoptions(suppress=True)\n",
        "plt.scatter(word_emb_tsne[:, 0], word_emb_tsne[:, 1], marker=\".\", s=1)\n",
        "\n",
        "for idx in range(1000):\n",
        "    plt.annotate(inv_index[idx],\n",
        "                 xy=(word_emb_tsne[idx, 0], word_emb_tsne[idx, 1]),\n",
        "                 xytext=(0, 0), textcoords='offset points')\n",
        "plt.savefig(\"tsne.png\")\n",
        "plt.show()"
      ]
    },
    {
      "cell_type": "markdown",
      "metadata": {
        "id": "YBKYrxvGKSVS"
      },
      "source": [
        "### Using pre-trained embeddings in our model\n",
        "\n",
        "We want to use these pre-trained embeddings for transfer learning. This process is rather similar than transfer learning in image recognition: the features learnt on words might help us bootstrap the learning process, and increase performance if we don't have enough training data.\n",
        "\n",
        "- We initialize embedding matrix from the model with Glove embeddings:\n",
        " - take all unique words from our BBC news dataset to build a vocabulary (`MAX_NB_WORDS = 20000`), and look up their Glove embedding\n",
        " - place the Glove embedding at the corresponding index in the matrix\n",
        " - if the word is not in the Glove vocabulary, we only place zeros in the matrix"
      ]
    },
    {
      "cell_type": "code",
      "execution_count": null,
      "metadata": {
        "id": "MZadzlJaKSVS"
      },
      "outputs": [],
      "source": [
        "EMBEDDING_DIM = 100\n",
        "\n",
        "# prepare embedding matrix\n",
        "nb_words_in_matrix = 0\n",
        "nb_words = min(MAX_NB_WORDS, len(word_index))\n",
        "embedding_matrix = np.zeros((nb_words, EMBEDDING_DIM))\n",
        "for word, i in word_index.items():\n",
        "    if i >= MAX_NB_WORDS:\n",
        "        continue\n",
        "    embedding_vector = get_emb(word)\n",
        "    if embedding_vector is not None:\n",
        "        # words not found in embedding index will be all-zeros.\n",
        "        embedding_matrix[i] = embedding_vector # Place the Glove embedding at the corresponding index in the matrix\n",
        "        nb_words_in_matrix = nb_words_in_matrix + 1\n",
        "\n",
        "print(\"added %d words in the embedding matrix\" % nb_words_in_matrix)"
      ]
    },
    {
      "cell_type": "markdown",
      "metadata": {
        "id": "vt9trWjXKSVS"
      },
      "source": [
        "Build a layer with pre-trained embeddings:"
      ]
    },
    {
      "cell_type": "code",
      "execution_count": null,
      "metadata": {
        "id": "gGZg62wgKSVS"
      },
      "outputs": [],
      "source": [
        "pretrained_embedding_layer = Embedding(\n",
        "    MAX_NB_WORDS, EMBEDDING_DIM,\n",
        "    weights=[embedding_matrix],\n",
        ")"
      ]
    },
    {
      "cell_type": "markdown",
      "metadata": {
        "id": "mOZMhYAAKSVT"
      },
      "source": [
        "### A model with pre-trained Embeddings\n",
        "\n",
        "Now we can build a model with pre-trained embeddings. We will use the same architecture as before, but we will use the `pretrained_embedding_layer` as the first layer of the model."
      ]
    },
    {
      "cell_type": "code",
      "execution_count": null,
      "metadata": {
        "id": "0c5RMfTiKSVT"
      },
      "outputs": [],
      "source": [
        "model = Sequential([\n",
        "    # Add the pre-defined and pre-trained embedding layer\n",
        "    pretrained_embedding_layer,\n",
        "    GlobalAveragePooling1D(),\n",
        "    Dense(N_CLASSES, activation='softmax')\n",
        "])\n",
        "\n",
        "# Set the embedding layer's trainable attribute to False to not fine-tune the embeddings - you can try to change this\n",
        "model.layers[0].trainable = False\n",
        "\n",
        "# Compile the model\n",
        "model.compile(loss='categorical_crossentropy',\n",
        "              optimizer=Adam(learning_rate=0.01), metrics=['accuracy'])\n"
      ]
    },
    {
      "cell_type": "code",
      "execution_count": null,
      "metadata": {
        "id": "HFWt4KTcKSVT"
      },
      "outputs": [],
      "source": [
        "model.fit(x_train, y_train, validation_split=0.1,\n",
        "          epochs=15, batch_size=32)"
      ]
    },
    {
      "cell_type": "markdown",
      "metadata": {
        "id": "RBuRO99GKSVT"
      },
      "source": [
        "### Reality check\n",
        "\n",
        "On small/medium datasets (few 10,000s) of reasonably large documents (e.g. more than a few paragraphs), simpler classification methods usually perform better, and are much more efficient to train and use. Here are two resources to go further, if you are curious:\n",
        "- Naive Bayes approach, using scikit-learn [http://scikit-learn.org/stable/datasets/twenty_newsgroups.html](http://scikit-learn.org/stable/datasets/twenty_newsgroups.html)\n",
        "- Alec Radford (OpenAI) gave a very interesting presentation, showing that you need a VERY large dataset to have real gains from GRU/LSTM in text classification [https://www.slideshare.net/odsc/alec-radfordodsc-presentation](https://www.slideshare.net/odsc/alec-radfordodsc-presentation)\n",
        "\n",
        "Training deep architectures from random init on text classification is usually a waste of time.\n",
        "\n",
        "However, when looking at features, one can see that classification using simple methods isn't very robust, and won't generalize well to slightly different domains (e.g. forum posts => emails)\n",
        "\n",
        "Nowadays, the strategy would be to use pre-trained deep network (BERT) to extract features and fit a linear classifer on top of this. This is especially useful when classifying short texts (e.g. one or a few sentences) as this kind of tasks can be very sensitive to understanding the meaning resulting from intra-sentence interactions between words. The next session on attentional mechanisms and pre-trained transformer-based word models will explain this in more details."
      ]
    }
  ],
  "metadata": {
    "kernelspec": {
      "display_name": "Python 3",
      "name": "python3"
    },
    "language_info": {
      "codemirror_mode": {
        "name": "ipython",
        "version": 3
      },
      "file_extension": ".py",
      "mimetype": "text/x-python",
      "name": "python",
      "nbconvert_exporter": "python",
      "pygments_lexer": "ipython3",
      "version": "3.12.9"
    },
    "colab": {
      "provenance": [],
      "gpuType": "T4"
    },
    "accelerator": "GPU"
  },
  "nbformat": 4,
  "nbformat_minor": 0
}